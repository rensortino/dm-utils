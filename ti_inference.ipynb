{
 "cells": [
  {
   "cell_type": "code",
   "execution_count": null,
   "metadata": {},
   "outputs": [],
   "source": [
    "from diffusers import StableDiffusionPipeline\n",
    "import torch\n",
    "\n",
    "pipeline = StableDiffusionPipeline.from_pretrained(\"runwayml/stable-diffusion-v1-5\", torch_dtype=torch.float16).to(\"cuda\")\n",
    "pipeline.load_textual_inversion(\"learned_concepts/class01\")"
   ]
  },
  {
   "cell_type": "code",
   "execution_count": null,
   "metadata": {},
   "outputs": [],
   "source": [
    "images = [pipeline(\"A photo of a <class01>\", num_inference_steps=50).images[0] for i in range(10)]"
   ]
  },
  {
   "cell_type": "code",
   "execution_count": null,
   "metadata": {},
   "outputs": [],
   "source": [
    "# Assuming you have a list of image tensors named 'image_tensors'\n",
    "import matplotlib.pyplot as plt\n",
    "num_images = len(images)\n",
    "num_rows = int(num_images ** 0.5)\n",
    "num_cols = int(num_images / num_rows)\n",
    "\n",
    "fig, axes = plt.subplots(num_rows, num_cols, figsize=(16,16), tight_layout=True)\n",
    "\n",
    "\n",
    "for i, ax in enumerate(axes.flat):\n",
    "    image = images[i]\n",
    "    # image = image * 0.5 + 0.5\n",
    "    # image = image.clip(0, 1)\n",
    "    ax.imshow(image)\n",
    "    ax.axis('off')\n",
    "\n",
    "plt.show()"
   ]
  }
 ],
 "metadata": {
  "kernelspec": {
   "display_name": "continual",
   "language": "python",
   "name": "python3"
  },
  "language_info": {
   "codemirror_mode": {
    "name": "ipython",
    "version": 3
   },
   "file_extension": ".py",
   "mimetype": "text/x-python",
   "name": "python",
   "nbconvert_exporter": "python",
   "pygments_lexer": "ipython3",
   "version": "3.9.12"
  }
 },
 "nbformat": 4,
 "nbformat_minor": 2
}
